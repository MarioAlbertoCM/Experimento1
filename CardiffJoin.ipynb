{
 "cells": [
  {
   "cell_type": "code",
   "execution_count": 16,
   "id": "77ca2582-6c5f-4f63-b235-10f7d64efafb",
   "metadata": {},
   "outputs": [],
   "source": [
    "import pandas as pd\n",
    "import numpy as np"
   ]
  },
  {
   "cell_type": "code",
   "execution_count": 5,
   "id": "9088eb8a-1163-4f65-980d-93e6cd413f1f",
   "metadata": {},
   "outputs": [],
   "source": [
    "df_testTxt = pd.read_csv(\"test_text.txt\", delimiter=\"|\",header=None)\n",
    "df_testLabel = pd.read_csv(\"test_labels.txt\", delimiter=\"|\",header=None)\n",
    "df_trainTxt = pd.read_csv(\"train_text.txt\", delimiter=\"|\",header=None)\n",
    "df_trainLabel = pd.read_csv(\"train_labels.txt\", delimiter=\"|\",header=None)\n",
    "df_valTxt = pd.read_csv(\"val_text.txt\", delimiter=\"|\",header=None)\n",
    "df_valLabel = pd.read_csv(\"val_labels.txt\", delimiter=\"|\",header=None)"
   ]
  },
  {
   "cell_type": "code",
   "execution_count": 6,
   "id": "cdfc2432-2666-4b97-bd53-6f22de58f3b8",
   "metadata": {},
   "outputs": [
    {
     "name": "stdout",
     "output_type": "stream",
     "text": [
      "****Total de registro por dataframe****\n",
      "Test_tex:870 Test_Label:870\n",
      "Train_tex:1839 Train_Label:1839\n",
      "Val_tex:324 Val_Label:324\n"
     ]
    }
   ],
   "source": [
    "print(\"****Total de registro por dataframe****\")\n",
    "print(\"Test_tex:\"+str(df_testTxt.size)+\" Test_Label:\"+str(df_testLabel.size))\n",
    "print(\"Train_tex:\"+str(df_trainTxt.size)+\" Train_Label:\"+str(df_trainLabel.size))\n",
    "print(\"Val_tex:\"+str(df_valTxt.size)+\" Val_Label:\"+str(df_valLabel.size))"
   ]
  },
  {
   "cell_type": "code",
   "execution_count": 7,
   "id": "a473e695-8af5-4597-90f7-38d1797ead6e",
   "metadata": {},
   "outputs": [],
   "source": [
    "#Colocar id para realizar cruces\n",
    "df_testTxt[id]=np.arange(len(df_testTxt))\n",
    "df_testLabel[id]=np.arange(len(df_testLabel))\n",
    "df_trainTxt[id]=np.arange(len(df_trainTxt))\n",
    "df_trainLabel[id]=np.arange(len(df_trainLabel))\n",
    "df_valTxt[id]=np.arange(len(df_valTxt))\n",
    "df_valLabel[id]=np.arange(len(df_valLabel))"
   ]
  },
  {
   "cell_type": "code",
   "execution_count": 8,
   "id": "61bc96c8-3587-4df6-85dd-9a5cab5ec011",
   "metadata": {},
   "outputs": [],
   "source": [
    "#agregar encabezados a los dataframes\n",
    "df_testTxt.columns = ['texto','id']\n",
    "df_testLabel.columns = ['etiqueta','id']\n",
    "df_trainTxt.columns = ['texto','id']\n",
    "df_trainLabel.columns = ['etiqueta','id']\n",
    "df_valTxt.columns = ['texto','id']\n",
    "df_valLabel.columns = ['etiqueta','id']"
   ]
  },
  {
   "cell_type": "code",
   "execution_count": 9,
   "id": "560d01ac-6372-4896-8399-7a6ff681923a",
   "metadata": {},
   "outputs": [],
   "source": [
    "#Join entre los textos y las etiquetas\n",
    "df_testTxt=df_testTxt.merge(df_testLabel, on=\"id\", how=\"left\")\n",
    "df_trainTxt=df_trainTxt.merge(df_trainLabel, on=\"id\", how=\"left\")\n",
    "df_valTxt=df_valTxt.merge(df_valLabel, on=\"id\", how=\"left\")"
   ]
  },
  {
   "cell_type": "code",
   "execution_count": 10,
   "id": "57f46b33-5ca9-4e82-b2a7-14939efad452",
   "metadata": {},
   "outputs": [],
   "source": [
    "#retirar id de los dataframes \n",
    "df_testTxt=df_testTxt[['texto', 'etiqueta']]\n",
    "df_trainTxt=df_trainTxt[['texto', 'etiqueta']]\n",
    "df_valTxt=df_valTxt[['texto', 'etiqueta']]"
   ]
  },
  {
   "cell_type": "code",
   "execution_count": 11,
   "id": "b1463b78-abb1-4fe1-8c58-126105b67d3a",
   "metadata": {},
   "outputs": [
    {
     "name": "stdout",
     "output_type": "stream",
     "text": [
      "870\n",
      "1839\n",
      "324\n"
     ]
    }
   ],
   "source": [
    "#valida totales\n",
    "print(df_testTxt['texto'].size)\n",
    "print(df_trainTxt['texto'].size)\n",
    "print(df_valTxt['texto'].size)"
   ]
  },
  {
   "cell_type": "code",
   "execution_count": 12,
   "id": "9435c62d-7b1c-42e2-b306-e903fd093245",
   "metadata": {},
   "outputs": [
    {
     "data": {
      "text/plain": [
       "3033"
      ]
     },
     "execution_count": 12,
     "metadata": {},
     "output_type": "execute_result"
    }
   ],
   "source": [
    "#une todos los registros\n",
    "df_unificado = pd.concat([df_testTxt, df_trainTxt,df_valTxt])\n",
    "df_unificado['texto'].size"
   ]
  },
  {
   "cell_type": "code",
   "execution_count": 13,
   "id": "1a281af0-4774-41b1-8992-beb7d4a40ea5",
   "metadata": {},
   "outputs": [],
   "source": [
    "#almacena el dataset unificado\n",
    "df_unificado.to_csv(\"cardiUnificado.csv\",index=False)"
   ]
  },
  {
   "cell_type": "code",
   "execution_count": 21,
   "id": "8ca1cea7-2adb-4eb7-a079-4e5bc7c0ad13",
   "metadata": {},
   "outputs": [
    {
     "data": {
      "text/html": [
       "<div>\n",
       "<style scoped>\n",
       "    .dataframe tbody tr th:only-of-type {\n",
       "        vertical-align: middle;\n",
       "    }\n",
       "\n",
       "    .dataframe tbody tr th {\n",
       "        vertical-align: top;\n",
       "    }\n",
       "\n",
       "    .dataframe thead th {\n",
       "        text-align: right;\n",
       "    }\n",
       "</style>\n",
       "<table border=\"1\" class=\"dataframe\">\n",
       "  <thead>\n",
       "    <tr style=\"text-align: right;\">\n",
       "      <th></th>\n",
       "      <th>texto</th>\n",
       "      <th>etiqueta</th>\n",
       "    </tr>\n",
       "  </thead>\n",
       "  <tbody>\n",
       "    <tr>\n",
       "      <th>0</th>\n",
       "      <td>@user jajajaja dale, hacete la boluda vos jaja...</td>\n",
       "      <td>0</td>\n",
       "    </tr>\n",
       "    <tr>\n",
       "      <th>1</th>\n",
       "      <td>cada vez que cito un tweet se va la ubicación ...</td>\n",
       "      <td>1</td>\n",
       "    </tr>\n",
       "    <tr>\n",
       "      <th>2</th>\n",
       "      <td>@user MAAAAE RAJADO! Pero lo bueno es q uno se...</td>\n",
       "      <td>2</td>\n",
       "    </tr>\n",
       "    <tr>\n",
       "      <th>3</th>\n",
       "      <td>Bueno hoy fui a almorzar a Nanay con otras 3 d...</td>\n",
       "      <td>0</td>\n",
       "    </tr>\n",
       "  </tbody>\n",
       "</table>\n",
       "</div>"
      ],
      "text/plain": [
       "                                               texto  etiqueta\n",
       "0  @user jajajaja dale, hacete la boluda vos jaja...         0\n",
       "1  cada vez que cito un tweet se va la ubicación ...         1\n",
       "2  @user MAAAAE RAJADO! Pero lo bueno es q uno se...         2\n",
       "3  Bueno hoy fui a almorzar a Nanay con otras 3 d...         0"
      ]
     },
     "execution_count": 21,
     "metadata": {},
     "output_type": "execute_result"
    }
   ],
   "source": [
    "#carga el dataset completo\n",
    "df_cardi = pd.read_csv(\"cardiUnificado.csv\")\n",
    "df_cardi.head(4)"
   ]
  }
 ],
 "metadata": {
  "kernelspec": {
   "display_name": "Python 3 (ipykernel)",
   "language": "python",
   "name": "python3"
  },
  "language_info": {
   "codemirror_mode": {
    "name": "ipython",
    "version": 3
   },
   "file_extension": ".py",
   "mimetype": "text/x-python",
   "name": "python",
   "nbconvert_exporter": "python",
   "pygments_lexer": "ipython3",
   "version": "3.9.16"
  }
 },
 "nbformat": 4,
 "nbformat_minor": 5
}
