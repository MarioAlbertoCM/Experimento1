{
 "cells": [
  {
   "cell_type": "code",
   "execution_count": 1,
   "id": "dababe99-5119-4c35-b9d2-224772743ba7",
   "metadata": {},
   "outputs": [],
   "source": [
    "import pandas as pd\n",
    "import sklearn\n",
    "import matplotlib.pyplot as plt\n",
    "import numpy as np\n",
    "from sklearn import svm, tree, neighbors\n",
    "from sklearn.model_selection import train_test_split\n",
    "from sklearn.linear_model import Perceptron\n",
    "from sklearn.metrics import accuracy_score\n",
    "from sklearn.naive_bayes import GaussianNB"
   ]
  },
  {
   "cell_type": "code",
   "execution_count": 2,
   "id": "f563a4d7-ff00-4c06-a4b9-0d38657ad655",
   "metadata": {},
   "outputs": [
    {
     "name": "stdout",
     "output_type": "stream",
     "text": [
      "Total columnas: 7269\n"
     ]
    }
   ],
   "source": [
    "# LEMA\n",
    "# lectura del archivo de caracteristicas de los textos\n",
    "archivoLema = \"tfidf_dfLema.csv\"\n",
    "conjuntoTextosLema = pd.read_csv(archivoLema,encoding='utf-8')\n",
    "#cantidad de columnas en el dataframe\n",
    "TotColumsLema=conjuntoTextosLema.shape[1]-1\n",
    "print(\"Total columnas: \"+ str(conjuntoTextosLema.shape[1]))\n",
    "#print(conjuntoTextosLema)"
   ]
  },
  {
   "cell_type": "code",
   "execution_count": 3,
   "id": "20dab548-eb54-4b18-a2d9-ea57a0f994a7",
   "metadata": {},
   "outputs": [
    {
     "name": "stdout",
     "output_type": "stream",
     "text": [
      "Total columnas: 5647\n"
     ]
    }
   ],
   "source": [
    "# stemmer\n",
    "# lectura del archivo de caracteristicas de los textos\n",
    "archivoStem = \"tfidf_dfStem.csv\"\n",
    "conjuntoTextosStem = pd.read_csv(archivoStem,encoding='utf-8')\n",
    "#cantidad de columnas en el dataframe\n",
    "TotColumsSteam=conjuntoTextosStem.shape[1]-1\n",
    "print(\"Total columnas: \"+ str(conjuntoTextosStem.shape[1]))\n",
    "#print(conjuntoTextosStem)"
   ]
  },
  {
   "cell_type": "code",
   "execution_count": 4,
   "id": "f6eaa5c1-0f20-4cd2-b603-80843bc80323",
   "metadata": {},
   "outputs": [],
   "source": [
    "#Lema\n",
    "# Divide el conjunto en X (características) y Y (listado de clases)\n",
    "X_Lema = conjuntoTextosLema.iloc[:, :TotColumsLema].values\n",
    "Y_Lema = conjuntoTextosLema['Trg'].values"
   ]
  },
  {
   "cell_type": "code",
   "execution_count": 5,
   "id": "91133180-74f3-4625-8a16-d442f217d7f2",
   "metadata": {},
   "outputs": [],
   "source": [
    "#Stemmer\n",
    "# Divide el conjunto en X (características) y Y (listado de clases)\n",
    "X_Stem = conjuntoTextosStem.iloc[:, :TotColumsSteam].values\n",
    "Y_Stem = conjuntoTextosStem['Trg'].values"
   ]
  },
  {
   "cell_type": "code",
   "execution_count": 59,
   "id": "4439010c-6d58-4ce9-8178-6ab865617c74",
   "metadata": {},
   "outputs": [
    {
     "name": "stdout",
     "output_type": "stream",
     "text": [
      "Cantidad de textos de entrenamiento:  2426\n",
      "Cantidad de textos de prueba:  607\n"
     ]
    }
   ],
   "source": [
    "#Lema\n",
    "# Divide los conjuntos X y Y en entrenamiento y pruebas con un 80/20\n",
    "(X_entrenamientoLema, X_pruebaLema, Y_entrenamientoLema, Y_pruebaLema) = train_test_split(X_Lema, Y_Lema, test_size=0.2)\n",
    "print(\"Cantidad de textos de entrenamiento: \", len(Y_entrenamientoLema))\n",
    "print(\"Cantidad de textos de prueba: \",len(Y_pruebaLema))"
   ]
  },
  {
   "cell_type": "code",
   "execution_count": 60,
   "id": "7aa50857-9b07-4994-9040-2b45f2dad240",
   "metadata": {},
   "outputs": [
    {
     "name": "stdout",
     "output_type": "stream",
     "text": [
      "Cantidad de textos de entrenamiento:  2426\n",
      "Cantidad de textos de prueba:  607\n"
     ]
    }
   ],
   "source": [
    "#Stemmer\n",
    "# Divide los conjuntos X y Y en entrenamiento y pruebas con un 80/20\n",
    "(X_entrenamientoStem, X_pruebaStem, Y_entrenamientoStem, Y_pruebaStem) = train_test_split(X_Stem, Y_Stem, test_size=0.2)\n",
    "print(\"Cantidad de textos de entrenamiento: \", len(Y_entrenamientoStem))\n",
    "print(\"Cantidad de textos de prueba: \",len(Y_pruebaStem))"
   ]
  },
  {
   "cell_type": "code",
   "execution_count": 61,
   "id": "8ae05c68-ab4c-4798-a3d9-c3c39254e1c3",
   "metadata": {},
   "outputs": [],
   "source": [
    "#Lema K-NN\n",
    "# Entrena con los conjuntos (X,Y_entrenamiento), genera el modelo, clasifica y evalua con los conjuntos (X,Y_prueba)\n",
    "# Utilizando el algoritmo K-NN con 3 vecinos\n",
    "clasificadorKNN_Lema = neighbors.KNeighborsClassifier(n_neighbors=3,weights='distance')\n",
    "clasificadorKNN_Lema.fit(X_entrenamientoLema, Y_entrenamientoLema)\n",
    "precisionKNN_Lema = clasificadorKNN_Lema.score(X_pruebaLema, Y_pruebaLema)"
   ]
  },
  {
   "cell_type": "code",
   "execution_count": 62,
   "id": "0fc70b37-9988-407a-9ec3-ea10c214599e",
   "metadata": {},
   "outputs": [],
   "source": [
    "#Stemmer K-NN\n",
    "# Entrena con los conjuntos (X,Y_entrenamiento), genera el modelo, clasifica y evalua con los conjuntos (X,Y_prueba)\n",
    "# Utilizando el algoritmo K-NN con 3 vecinos\n",
    "clasificadorKNN_Stem = neighbors.KNeighborsClassifier(n_neighbors=3,weights='distance')\n",
    "clasificadorKNN_Stem.fit(X_entrenamientoStem, Y_entrenamientoStem)\n",
    "precisionKNN_Stem = clasificadorKNN_Stem.score(X_pruebaStem, Y_pruebaStem)"
   ]
  },
  {
   "cell_type": "code",
   "execution_count": 63,
   "id": "eee08fba-8d0d-4cf3-873a-062577191a09",
   "metadata": {},
   "outputs": [],
   "source": [
    "# Lema -- Obtiene e imprime las clases asignadas\n",
    "#print(Y_pruebaLema)\n",
    "clasesAsignadasLema = clasificadorKNN_Lema.predict(X_pruebaLema)\n",
    "#print(clasesAsignadasLema)\n",
    "#print(\"Precisión del algoritmo K-NN para Lema: \",precisionKNN_Lema*100)"
   ]
  },
  {
   "cell_type": "code",
   "execution_count": 64,
   "id": "387de913-e38e-46e4-b13e-d3a06846ea79",
   "metadata": {},
   "outputs": [],
   "source": [
    "# Stemmer -- Obtiene e imprime las clases asignadas\n",
    "#print(Y_pruebaStem)\n",
    "clasesAsignadasStem = clasificadorKNN_Stem.predict(X_pruebaStem)\n",
    "#print(clasesAsignadasStem)\n",
    "#print(\"Precisión del algoritmo K-NN para Stemmer: \",precisionKNN_Stem*100)"
   ]
  },
  {
   "cell_type": "code",
   "execution_count": 65,
   "id": "aa825391-62ef-43f6-9b3e-8b9c5c4c742f",
   "metadata": {},
   "outputs": [],
   "source": [
    "# Lema -- Creamos un objeto Perceptron y lo ajustamos a los datos \n",
    "clfLema = Perceptron()\n",
    "clfLema.fit(X_entrenamientoLema, Y_entrenamientoLema)\n",
    "# Hacemos una predicción sobre un nuevo conjunto de datos\n",
    "Y_predLema = clfLema.predict(X_pruebaLema)\n",
    "# Imprimimos las predicciones\n",
    "#print(Y_predLema)\n",
    "#print(Y_pruebaLema)"
   ]
  },
  {
   "cell_type": "code",
   "execution_count": 66,
   "id": "319ff933-ca5b-484f-b3df-5f6e6eb4cd63",
   "metadata": {},
   "outputs": [],
   "source": [
    "# Stemmer -- Creamos un objeto Perceptron y lo ajustamos a los datos\n",
    "clfStem = Perceptron()\n",
    "clfStem.fit(X_entrenamientoStem, Y_entrenamientoStem)\n",
    "# Hacemos una predicción sobre un nuevo conjunto de datos\n",
    "Y_predStem = clfStem.predict(X_pruebaStem)\n",
    "# Imprimimos las predicciones\n",
    "#print(Y_predStem)\n",
    "#print(Y_pruebaStem)"
   ]
  },
  {
   "cell_type": "code",
   "execution_count": 67,
   "id": "f4d4449f-9fe9-4491-9298-bf6262b2c680",
   "metadata": {},
   "outputs": [
    {
     "data": {
      "text/html": [
       "<style>#sk-container-id-3 {color: black;background-color: white;}#sk-container-id-3 pre{padding: 0;}#sk-container-id-3 div.sk-toggleable {background-color: white;}#sk-container-id-3 label.sk-toggleable__label {cursor: pointer;display: block;width: 100%;margin-bottom: 0;padding: 0.3em;box-sizing: border-box;text-align: center;}#sk-container-id-3 label.sk-toggleable__label-arrow:before {content: \"▸\";float: left;margin-right: 0.25em;color: #696969;}#sk-container-id-3 label.sk-toggleable__label-arrow:hover:before {color: black;}#sk-container-id-3 div.sk-estimator:hover label.sk-toggleable__label-arrow:before {color: black;}#sk-container-id-3 div.sk-toggleable__content {max-height: 0;max-width: 0;overflow: hidden;text-align: left;background-color: #f0f8ff;}#sk-container-id-3 div.sk-toggleable__content pre {margin: 0.2em;color: black;border-radius: 0.25em;background-color: #f0f8ff;}#sk-container-id-3 input.sk-toggleable__control:checked~div.sk-toggleable__content {max-height: 200px;max-width: 100%;overflow: auto;}#sk-container-id-3 input.sk-toggleable__control:checked~label.sk-toggleable__label-arrow:before {content: \"▾\";}#sk-container-id-3 div.sk-estimator input.sk-toggleable__control:checked~label.sk-toggleable__label {background-color: #d4ebff;}#sk-container-id-3 div.sk-label input.sk-toggleable__control:checked~label.sk-toggleable__label {background-color: #d4ebff;}#sk-container-id-3 input.sk-hidden--visually {border: 0;clip: rect(1px 1px 1px 1px);clip: rect(1px, 1px, 1px, 1px);height: 1px;margin: -1px;overflow: hidden;padding: 0;position: absolute;width: 1px;}#sk-container-id-3 div.sk-estimator {font-family: monospace;background-color: #f0f8ff;border: 1px dotted black;border-radius: 0.25em;box-sizing: border-box;margin-bottom: 0.5em;}#sk-container-id-3 div.sk-estimator:hover {background-color: #d4ebff;}#sk-container-id-3 div.sk-parallel-item::after {content: \"\";width: 100%;border-bottom: 1px solid gray;flex-grow: 1;}#sk-container-id-3 div.sk-label:hover label.sk-toggleable__label {background-color: #d4ebff;}#sk-container-id-3 div.sk-serial::before {content: \"\";position: absolute;border-left: 1px solid gray;box-sizing: border-box;top: 0;bottom: 0;left: 50%;z-index: 0;}#sk-container-id-3 div.sk-serial {display: flex;flex-direction: column;align-items: center;background-color: white;padding-right: 0.2em;padding-left: 0.2em;position: relative;}#sk-container-id-3 div.sk-item {position: relative;z-index: 1;}#sk-container-id-3 div.sk-parallel {display: flex;align-items: stretch;justify-content: center;background-color: white;position: relative;}#sk-container-id-3 div.sk-item::before, #sk-container-id-3 div.sk-parallel-item::before {content: \"\";position: absolute;border-left: 1px solid gray;box-sizing: border-box;top: 0;bottom: 0;left: 50%;z-index: -1;}#sk-container-id-3 div.sk-parallel-item {display: flex;flex-direction: column;z-index: 1;position: relative;background-color: white;}#sk-container-id-3 div.sk-parallel-item:first-child::after {align-self: flex-end;width: 50%;}#sk-container-id-3 div.sk-parallel-item:last-child::after {align-self: flex-start;width: 50%;}#sk-container-id-3 div.sk-parallel-item:only-child::after {width: 0;}#sk-container-id-3 div.sk-dashed-wrapped {border: 1px dashed gray;margin: 0 0.4em 0.5em 0.4em;box-sizing: border-box;padding-bottom: 0.4em;background-color: white;}#sk-container-id-3 div.sk-label label {font-family: monospace;font-weight: bold;display: inline-block;line-height: 1.2em;}#sk-container-id-3 div.sk-label-container {text-align: center;}#sk-container-id-3 div.sk-container {/* jupyter's `normalize.less` sets `[hidden] { display: none; }` but bootstrap.min.css set `[hidden] { display: none !important; }` so we also need the `!important` here to be able to override the default hidden behavior on the sphinx rendered scikit-learn.org. See: https://github.com/scikit-learn/scikit-learn/issues/21755 */display: inline-block !important;position: relative;}#sk-container-id-3 div.sk-text-repr-fallback {display: none;}</style><div id=\"sk-container-id-3\" class=\"sk-top-container\"><div class=\"sk-text-repr-fallback\"><pre>GaussianNB()</pre><b>In a Jupyter environment, please rerun this cell to show the HTML representation or trust the notebook. <br />On GitHub, the HTML representation is unable to render, please try loading this page with nbviewer.org.</b></div><div class=\"sk-container\" hidden><div class=\"sk-item\"><div class=\"sk-estimator sk-toggleable\"><input class=\"sk-toggleable__control sk-hidden--visually\" id=\"sk-estimator-id-3\" type=\"checkbox\" checked><label for=\"sk-estimator-id-3\" class=\"sk-toggleable__label sk-toggleable__label-arrow\">GaussianNB</label><div class=\"sk-toggleable__content\"><pre>GaussianNB()</pre></div></div></div></div></div>"
      ],
      "text/plain": [
       "GaussianNB()"
      ]
     },
     "execution_count": 67,
     "metadata": {},
     "output_type": "execute_result"
    }
   ],
   "source": [
    "# Lema -- Crear un clasificador de Naive Bayes\n",
    "nbLema = GaussianNB()\n",
    "# Entrenar el clasificador con el conjunto de entrenamiento\n",
    "nbLema.fit(X_entrenamientoLema, Y_entrenamientoLema)"
   ]
  },
  {
   "cell_type": "code",
   "execution_count": 68,
   "id": "ef6b1253-c135-4a04-8d3e-aec5be9cd5b8",
   "metadata": {},
   "outputs": [
    {
     "data": {
      "text/html": [
       "<style>#sk-container-id-4 {color: black;background-color: white;}#sk-container-id-4 pre{padding: 0;}#sk-container-id-4 div.sk-toggleable {background-color: white;}#sk-container-id-4 label.sk-toggleable__label {cursor: pointer;display: block;width: 100%;margin-bottom: 0;padding: 0.3em;box-sizing: border-box;text-align: center;}#sk-container-id-4 label.sk-toggleable__label-arrow:before {content: \"▸\";float: left;margin-right: 0.25em;color: #696969;}#sk-container-id-4 label.sk-toggleable__label-arrow:hover:before {color: black;}#sk-container-id-4 div.sk-estimator:hover label.sk-toggleable__label-arrow:before {color: black;}#sk-container-id-4 div.sk-toggleable__content {max-height: 0;max-width: 0;overflow: hidden;text-align: left;background-color: #f0f8ff;}#sk-container-id-4 div.sk-toggleable__content pre {margin: 0.2em;color: black;border-radius: 0.25em;background-color: #f0f8ff;}#sk-container-id-4 input.sk-toggleable__control:checked~div.sk-toggleable__content {max-height: 200px;max-width: 100%;overflow: auto;}#sk-container-id-4 input.sk-toggleable__control:checked~label.sk-toggleable__label-arrow:before {content: \"▾\";}#sk-container-id-4 div.sk-estimator input.sk-toggleable__control:checked~label.sk-toggleable__label {background-color: #d4ebff;}#sk-container-id-4 div.sk-label input.sk-toggleable__control:checked~label.sk-toggleable__label {background-color: #d4ebff;}#sk-container-id-4 input.sk-hidden--visually {border: 0;clip: rect(1px 1px 1px 1px);clip: rect(1px, 1px, 1px, 1px);height: 1px;margin: -1px;overflow: hidden;padding: 0;position: absolute;width: 1px;}#sk-container-id-4 div.sk-estimator {font-family: monospace;background-color: #f0f8ff;border: 1px dotted black;border-radius: 0.25em;box-sizing: border-box;margin-bottom: 0.5em;}#sk-container-id-4 div.sk-estimator:hover {background-color: #d4ebff;}#sk-container-id-4 div.sk-parallel-item::after {content: \"\";width: 100%;border-bottom: 1px solid gray;flex-grow: 1;}#sk-container-id-4 div.sk-label:hover label.sk-toggleable__label {background-color: #d4ebff;}#sk-container-id-4 div.sk-serial::before {content: \"\";position: absolute;border-left: 1px solid gray;box-sizing: border-box;top: 0;bottom: 0;left: 50%;z-index: 0;}#sk-container-id-4 div.sk-serial {display: flex;flex-direction: column;align-items: center;background-color: white;padding-right: 0.2em;padding-left: 0.2em;position: relative;}#sk-container-id-4 div.sk-item {position: relative;z-index: 1;}#sk-container-id-4 div.sk-parallel {display: flex;align-items: stretch;justify-content: center;background-color: white;position: relative;}#sk-container-id-4 div.sk-item::before, #sk-container-id-4 div.sk-parallel-item::before {content: \"\";position: absolute;border-left: 1px solid gray;box-sizing: border-box;top: 0;bottom: 0;left: 50%;z-index: -1;}#sk-container-id-4 div.sk-parallel-item {display: flex;flex-direction: column;z-index: 1;position: relative;background-color: white;}#sk-container-id-4 div.sk-parallel-item:first-child::after {align-self: flex-end;width: 50%;}#sk-container-id-4 div.sk-parallel-item:last-child::after {align-self: flex-start;width: 50%;}#sk-container-id-4 div.sk-parallel-item:only-child::after {width: 0;}#sk-container-id-4 div.sk-dashed-wrapped {border: 1px dashed gray;margin: 0 0.4em 0.5em 0.4em;box-sizing: border-box;padding-bottom: 0.4em;background-color: white;}#sk-container-id-4 div.sk-label label {font-family: monospace;font-weight: bold;display: inline-block;line-height: 1.2em;}#sk-container-id-4 div.sk-label-container {text-align: center;}#sk-container-id-4 div.sk-container {/* jupyter's `normalize.less` sets `[hidden] { display: none; }` but bootstrap.min.css set `[hidden] { display: none !important; }` so we also need the `!important` here to be able to override the default hidden behavior on the sphinx rendered scikit-learn.org. See: https://github.com/scikit-learn/scikit-learn/issues/21755 */display: inline-block !important;position: relative;}#sk-container-id-4 div.sk-text-repr-fallback {display: none;}</style><div id=\"sk-container-id-4\" class=\"sk-top-container\"><div class=\"sk-text-repr-fallback\"><pre>GaussianNB()</pre><b>In a Jupyter environment, please rerun this cell to show the HTML representation or trust the notebook. <br />On GitHub, the HTML representation is unable to render, please try loading this page with nbviewer.org.</b></div><div class=\"sk-container\" hidden><div class=\"sk-item\"><div class=\"sk-estimator sk-toggleable\"><input class=\"sk-toggleable__control sk-hidden--visually\" id=\"sk-estimator-id-4\" type=\"checkbox\" checked><label for=\"sk-estimator-id-4\" class=\"sk-toggleable__label sk-toggleable__label-arrow\">GaussianNB</label><div class=\"sk-toggleable__content\"><pre>GaussianNB()</pre></div></div></div></div></div>"
      ],
      "text/plain": [
       "GaussianNB()"
      ]
     },
     "execution_count": 68,
     "metadata": {},
     "output_type": "execute_result"
    }
   ],
   "source": [
    "# Stemmer -- Crear un clasificador de Naive Bayes\n",
    "nbStem = GaussianNB()\n",
    "# Entrenar el clasificador con el conjunto de entrenamiento\n",
    "nbStem.fit(X_entrenamientoStem, Y_entrenamientoStem)"
   ]
  },
  {
   "cell_type": "code",
   "execution_count": 69,
   "id": "27b27cc8-aec2-494b-a453-a64f99eee9d8",
   "metadata": {},
   "outputs": [
    {
     "name": "stdout",
     "output_type": "stream",
     "text": [
      "Precisión del algoritmo SVM para Lema:  51.894563426688634\n"
     ]
    }
   ],
   "source": [
    "# Lema -- Entrena, genera el modelo, clasifica y evalua con los conjuntos \n",
    "# Utilizando el algoritmo Maquinas de soporte vectorial\n",
    "clasificadorSVM_Lema = svm.SVC()\n",
    "clasificadorSVM_Lema.fit(X_entrenamientoLema, Y_entrenamientoLema)\n",
    "precisionSVM_Lema = clasificadorSVM_Lema.score(X_pruebaLema, Y_pruebaLema)\n",
    "print(\"Precisión del algoritmo SVM para Lema: \",precisionSVM_Lema*100)"
   ]
  },
  {
   "cell_type": "code",
   "execution_count": 70,
   "id": "150655ac-7be4-4524-b64c-1148aa698f3c",
   "metadata": {},
   "outputs": [
    {
     "name": "stdout",
     "output_type": "stream",
     "text": [
      "Precisión del algoritmo SVM para Stemmer:  52.05930807248764\n"
     ]
    }
   ],
   "source": [
    "# Stemmer -- Entrena, genera el modelo, clasifica y evalua con los conjuntos \n",
    "# Utilizando el algoritmo Maquinas de soporte vectorial\n",
    "clasificadorSVM_Stem = svm.SVC()\n",
    "clasificadorSVM_Stem.fit(X_entrenamientoStem, Y_entrenamientoStem)\n",
    "precisionSVM_Stem = clasificadorSVM_Stem.score(X_pruebaStem, Y_pruebaStem)\n",
    "print(\"Precisión del algoritmo SVM para Stemmer: \",precisionSVM_Stem*100)"
   ]
  },
  {
   "cell_type": "code",
   "execution_count": 71,
   "id": "bc8a0a2b-e4bf-4f1a-8c8a-2f9436509281",
   "metadata": {},
   "outputs": [
    {
     "name": "stdout",
     "output_type": "stream",
     "text": [
      "Precisión del algoritmo Arboles para Lema:  47.94069192751236\n"
     ]
    }
   ],
   "source": [
    "# Lema -- Entrena, genera el modelo, clasifica y evalua con los conjuntos \n",
    "# Utilizando el algoritmo Arboles de Decisión\n",
    "clasificadorArboles_Lema = tree.DecisionTreeClassifier()\n",
    "clasificadorArboles_Lema = clasificadorArboles_Lema.fit(X_entrenamientoLema, Y_entrenamientoLema)\n",
    "precisionArboles_Lema = clasificadorArboles_Lema.score(X_pruebaLema, Y_pruebaLema)\n",
    "print(\"Precisión del algoritmo Arboles para Lema: \",precisionArboles_Lema*100)"
   ]
  },
  {
   "cell_type": "code",
   "execution_count": 72,
   "id": "b582c8d2-66a4-4679-9c66-686eb6f8f512",
   "metadata": {},
   "outputs": [
    {
     "name": "stdout",
     "output_type": "stream",
     "text": [
      "Precisión del algoritmo Arboles para Stemmer:  47.61120263591433\n"
     ]
    }
   ],
   "source": [
    "# Stemmer -- Entrena, genera el modelo, clasifica y evalua con los conjuntos \n",
    "# Utilizando el algoritmo Arboles de Decisión\n",
    "clasificadorArboles_Stem = tree.DecisionTreeClassifier()\n",
    "clasificadorArboles_Stem = clasificadorArboles_Stem.fit(X_entrenamientoStem, Y_entrenamientoStem)\n",
    "precisionArboles_Stem = clasificadorArboles_Stem.score(X_pruebaStem, Y_pruebaStem)\n",
    "print(\"Precisión del algoritmo Arboles para Stemmer: \",precisionArboles_Stem*100)"
   ]
  },
  {
   "cell_type": "code",
   "execution_count": 73,
   "id": "44f08609-6348-49e5-b81f-b9838206c9ae",
   "metadata": {
    "tags": []
   },
   "outputs": [
    {
     "name": "stdout",
     "output_type": "stream",
     "text": [
      "Precisión: 0.45634266886326197\n",
      "Precisión del algoritmo Perceptron Lema:  45.634266886326195\n"
     ]
    }
   ],
   "source": [
    "# Lema Perceptron -- Calculamos la precisión de las predicciones\n",
    "accuracyLema = accuracy_score(Y_pruebaLema, Y_predLema)\n",
    "# Imprimimos la precisión\n",
    "print(f\"Precisión: {accuracyLema}\")\n",
    "precisionPerceptronLema = clfLema.score(X_pruebaLema, Y_pruebaLema)\n",
    "print(\"Precisión del algoritmo Perceptron Lema: \",precisionPerceptronLema*100)"
   ]
  },
  {
   "cell_type": "code",
   "execution_count": 74,
   "id": "e2ea4303-8217-43cf-93c4-7d8d9e2ad460",
   "metadata": {
    "tags": []
   },
   "outputs": [
    {
     "name": "stdout",
     "output_type": "stream",
     "text": [
      "Precisión: 0.4299835255354201\n",
      "Precisión del algoritmo Perceptron Stemmer:  42.998352553542006\n"
     ]
    }
   ],
   "source": [
    "# Stemmer Preceptron -- Calculamos la precisión de las predicciones\n",
    "accuracyStem = accuracy_score(Y_pruebaStem, Y_predStem)\n",
    "# Imprimimos la precisión\n",
    "print(f\"Precisión: {accuracyStem}\")\n",
    "precisionPerceptronStem = clfStem.score(X_pruebaStem, Y_pruebaStem)\n",
    "print(\"Precisión del algoritmo Perceptron Stemmer: \",precisionPerceptronStem*100)"
   ]
  },
  {
   "cell_type": "code",
   "execution_count": 75,
   "id": "63221d1d-b955-42a4-8af5-64454214c276",
   "metadata": {
    "tags": []
   },
   "outputs": [
    {
     "name": "stdout",
     "output_type": "stream",
     "text": [
      "Precisión de la clasificación: 0.41680395387149916\n"
     ]
    }
   ],
   "source": [
    "# Lema Bayes -- Calculamos la precisión de las predicciones\n",
    "precisionNBLema=nbLema.score(X_pruebaLema,Y_pruebaLema)\n",
    "#print(\"Precisión de la precisionBayes:\", precisionNBLema*100)\n",
    "y_predLema = nbLema.predict(X_pruebaLema)\n",
    "#print(\"Valores reales: \",Y_pruebaLema )\n",
    "#print(\"Valores predichos: \", y_predLema)\n",
    "presicionNBLema = accuracy_score(Y_pruebaLema, y_predLema)\n",
    "print(\"Precisión de la clasificación:\", presicionNBLema)"
   ]
  },
  {
   "cell_type": "code",
   "execution_count": 76,
   "id": "3cbf0b58-4d11-4fd1-b704-96c4aabe799c",
   "metadata": {
    "tags": []
   },
   "outputs": [
    {
     "name": "stdout",
     "output_type": "stream",
     "text": [
      "Precisión de la clasificación: 0.37397034596375617\n"
     ]
    }
   ],
   "source": [
    "# Stemmer Bayes -- Calculamos la precisión de las predicciones\n",
    "precisionNBStem=nbStem.score(X_pruebaStem,Y_pruebaStem)\n",
    "#print(\"Precisión de la precisionBayes:\", precisionNBLema*100)\n",
    "y_predStem = nbStem.predict(X_pruebaStem)\n",
    "#print(\"Valores reales: \",Y_pruebaLema )\n",
    "#print(\"Valores predichos: \", y_predLema)\n",
    "presicionNBStem = accuracy_score(Y_pruebaStem, y_predStem)\n",
    "print(\"Precisión de la clasificación:\", presicionNBStem)"
   ]
  },
  {
   "cell_type": "code",
   "execution_count": 77,
   "id": "4e282cd9-4f88-487b-9245-97af74b8116c",
   "metadata": {},
   "outputs": [
    {
     "name": "stdout",
     "output_type": "stream",
     "text": [
      "***************************************************************\n",
      "Precisión del algoritmo K-NN para Lema:  44.3163097199341\n",
      "Precisión del algoritmo SVM para Lema:  51.894563426688634\n",
      "Precisión del algoritmo Arboles para Lema:  47.94069192751236\n",
      "Precisión del algoritmo Perceptron Lema:  45.634266886326195\n",
      "Precisión del algoritmo Bayes Lema:  41.680395387149915\n",
      "Precisión del algoritmo Random Forest Lema:  47.79169413315755\n",
      "Precisión del algoritmo Regresión Logistica:Lema  50.82399472643375\n",
      "***************************************************************\n"
     ]
    }
   ],
   "source": [
    "print(\"***************************************************************\")\n",
    "print(\"Precisión del algoritmo K-NN para Lema: \",precisionKNN_Lema*100)\n",
    "print(\"Precisión del algoritmo SVM para Lema: \",precisionSVM_Lema*100)\n",
    "print(\"Precisión del algoritmo Arboles para Lema: \",precisionArboles_Lema*100)\n",
    "print(\"Precisión del algoritmo Perceptron Lema: \",precisionPerceptronLema*100)\n",
    "print(\"Precisión del algoritmo Bayes Lema: \",presicionNBLema*100)\n",
    "print(\"Precisión del algoritmo Random Forest Lema: \",precisionRF_Lema*100)\n",
    "print(\"Precisión del algoritmo Regresión Logistica:Lema \",precisionRL_Lema*100)\n",
    "print(\"***************************************************************\")"
   ]
  },
  {
   "cell_type": "code",
   "execution_count": 40,
   "id": "2ee70bec-5abc-48d3-9db7-49483359127b",
   "metadata": {},
   "outputs": [
    {
     "data": {
      "image/png": "[encoded data removed]",
      "text/plain": [
       "<Figure size 1200x600 with 1 Axes>"
      ]
     },
     "metadata": {},
     "output_type": "display_data"
    }
   ],
   "source": [
    "# Compara los resultados de los tres algoritmos mediante gráficas\n",
    "plt.title(\"Comparacion de Algoritmos Lema Cardif - 3 clases\")\n",
    "plt.xlabel('Algoritmos')\n",
    "plt.ylabel('Precision')\n",
    "plt.plot([1,2,3,4,5,6,7], [precisionKNN_Lema,precisionSVM_Lema,precisionArboles_Lema,precisionPerceptronLema,presicionNBLema,precisionRF_Lema,precisionRL_Lema], 'r--')\n",
    "plt.axis([1, 7, 0, 1])\n",
    "plt.text(1, 0.02, 'KNN', ha='center',color='blue')\n",
    "plt.text(2, 0.02, 'SVM', ha='center',color='blue')\n",
    "plt.text(3, 0.02, 'Arboles', ha='center',color='blue')\n",
    "plt.text(4, 0.02, 'Perceptron', ha='center',color='blue')\n",
    "plt.text(5, 0.02, 'Bayes', ha='center',color='blue')\n",
    "plt.text(6, 0.02, 'Random Forest', ha='center',color='blue')\n",
    "plt.text(7, 0.02, 'Regresion Log', ha='center',color='blue')\n",
    "fig = plt.gcf()\n",
    "fig.set_size_inches(12, 6)\n",
    "plt.show()"
   ]
  },
  {
   "cell_type": "code",
   "execution_count": 47,
   "id": "d53c5fce-c1da-4181-93a1-4b582fb8b310",
   "metadata": {},
   "outputs": [
    {
     "name": "stdout",
     "output_type": "stream",
     "text": [
      "***************************************************************\n",
      "Precisión del algoritmo K-NN para Stemmer:  44.62755438365195\n",
      "Precisión del algoritmo SVM para Stemmer:  52.14238628872775\n",
      "Precisión del algoritmo Arboles para Stemmer:  47.06657877389585\n",
      "Precisión del algoritmo Perceptron Stemmer:  46.14370468029005\n",
      "Precisión del algoritmo Bayes Stemmer:  39.88134475939354\n",
      "Precisión del algoritmo Random Forest Stemmer:  50.428477257745556\n",
      "Precisión del algoritmo Regresión Logistica:Stemmer  52.40606460118655\n",
      "***************************************************************\n"
     ]
    }
   ],
   "source": [
    "print(\"***************************************************************\")\n",
    "print(\"Precisión del algoritmo K-NN para Stemmer: \",precisionKNN_Stem*100)\n",
    "print(\"Precisión del algoritmo SVM para Stemmer: \",precisionSVM_Stem*100)\n",
    "print(\"Precisión del algoritmo Arboles para Stemmer: \",precisionArboles_Stem*100)\n",
    "print(\"Precisión del algoritmo Perceptron Stemmer: \",precisionPerceptronStem*100)\n",
    "print(\"Precisión del algoritmo Bayes Stemmer: \",presicionNBStem*100)\n",
    "print(\"Precisión del algoritmo Random Forest Stemmer: \",precisionRF_Stem*100)\n",
    "print(\"Precisión del algoritmo Regresión Logistica:Stemmer \",precisionRL_Stem*100)\n",
    "print(\"***************************************************************\")"
   ]
  },
  {
   "cell_type": "code",
   "execution_count": 43,
   "id": "97a401e3-3998-463f-845a-f84bda8a3f3e",
   "metadata": {},
   "outputs": [
    {
     "data": {
      "image/png": "[encoded data removed]",
      "text/plain": [
       "<Figure size 1200x600 with 1 Axes>"
      ]
     },
     "metadata": {},
     "output_type": "display_data"
    }
   ],
   "source": [
    "# Compara los resultados de los tres algoritmos mediante gráficas\n",
    "plt.title(\"Comparacion de Algoritmos Stemming Cardif - 3 clases\")\n",
    "plt.xlabel('Algoritmos')\n",
    "plt.ylabel('Precision')\n",
    "plt.plot([1,2,3,4,5,6,7], [precisionKNN_Stem,precisionSVM_Stem,precisionArboles_Stem,precisionPerceptronStem,presicionNBStem,precisionRF_Stem,precisionRL_Stem], 'r--')\n",
    "plt.axis([1, 7, 0, 1])\n",
    "plt.text(1, 0.02, 'KNN', ha='center',color='blue')\n",
    "plt.text(2, 0.02, 'SVM', ha='center',color='blue')\n",
    "plt.text(3, 0.02, 'Arboles', ha='center',color='blue')\n",
    "plt.text(4, 0.02, 'Perceptron', ha='center',color='blue')\n",
    "plt.text(5, 0.02, 'Bayes', ha='center',color='blue')\n",
    "plt.text(6, 0.02, 'Random Forest', ha='center',color='blue')\n",
    "plt.text(7, 0.02, 'Regresion Log', ha='center',color='blue')\n",
    "fig = plt.gcf()\n",
    "fig.set_size_inches(12, 6)\n",
    "plt.show()"
   ]
  },
  {
   "cell_type": "code",
   "execution_count": 28,
   "id": "b285b384-0505-4697-ac3b-37532b9f9e6a",
   "metadata": {},
   "outputs": [
    {
     "name": "stdout",
     "output_type": "stream",
     "text": [
      "      Valor Real  Predicción\n",
      "0              2           1\n",
      "1              2           2\n",
      "2              0           0\n",
      "3              0           2\n",
      "4              0           0\n",
      "...          ...         ...\n",
      "1512           2           2\n",
      "1513           0           0\n",
      "1514           2           2\n",
      "1515           0           1\n",
      "1516           1           1\n",
      "\n",
      "[1517 rows x 2 columns]\n"
     ]
    }
   ],
   "source": [
    "# Obtener las predicciones de clasificación para los datos de prueba\n",
    "predicciones = clasificadorKNN_Stem.predict(X_pruebaStem)\n",
    "\n",
    "# Crear un DataFrame con los valores reales y las predicciones\n",
    "df_resultados = pd.DataFrame({'Valor Real': Y_pruebaStem, 'Predicción': predicciones})\n",
    "\n",
    "# Imprimir el DataFrame\n",
    "print(df_resultados)"
   ]
  },
  {
   "cell_type": "code",
   "execution_count": 35,
   "id": "a4fa6cd0-3649-4baf-9fe5-d94e7d93b32b",
   "metadata": {},
   "outputs": [],
   "source": [
    "from sklearn.ensemble import RandomForestClassifier\n",
    "from sklearn.linear_model import LogisticRegression"
   ]
  },
  {
   "cell_type": "code",
   "execution_count": 78,
   "id": "b50fe8e6-6976-4e7b-affa-ebc8cc1b49e0",
   "metadata": {},
   "outputs": [
    {
     "name": "stdout",
     "output_type": "stream",
     "text": [
      "Precisión del modelo: 50.74%\n"
     ]
    }
   ],
   "source": [
    "rf_model = RandomForestClassifier()\n",
    "\n",
    "# Entrenar el modelo con los datos de entrenamiento\n",
    "rf_model.fit(X_entrenamientoLema, Y_entrenamientoLema)\n",
    "\n",
    "# Realizar predicciones en los datos de prueba\n",
    "y_pred = rf_model.predict(X_pruebaLema)\n",
    "\n",
    "# Calcular la precisión del modelo\n",
    "precisionRF_Lema = accuracy_score(Y_pruebaLema, y_pred)\n",
    "print(\"Precisión del modelo: {:.2f}%\".format(precisionRF_Lema * 100))"
   ]
  },
  {
   "cell_type": "code",
   "execution_count": 79,
   "id": "f604473e-7221-4420-8e24-043c5366842c",
   "metadata": {},
   "outputs": [
    {
     "name": "stdout",
     "output_type": "stream",
     "text": [
      "Precisión del modelo: 50.74%\n"
     ]
    }
   ],
   "source": [
    "rf_model = RandomForestClassifier()\n",
    "\n",
    "# Entrenar el modelo con los datos de entrenamiento\n",
    "rf_model.fit(X_entrenamientoStem, Y_entrenamientoStem)\n",
    "\n",
    "# Realizar predicciones en los datos de prueba\n",
    "y_pred = rf_model.predict(X_pruebaStem)\n",
    "\n",
    "# Calcular la precisión del modelo\n",
    "precisionRF_Stem = accuracy_score(Y_pruebaStem, y_pred)\n",
    "print(\"Precisión del modelo: {:.2f}%\".format(precisionRF_Stem * 100))"
   ]
  },
  {
   "cell_type": "code",
   "execution_count": 80,
   "id": "fd2d837a-db8c-4ce7-baf5-1f49ca4b8398",
   "metadata": {},
   "outputs": [
    {
     "name": "stdout",
     "output_type": "stream",
     "text": [
      "Precisión del modelo: 50.91%\n"
     ]
    }
   ],
   "source": [
    "# Crear el modelo de regresión logística\n",
    "logreg_model = LogisticRegression()\n",
    "\n",
    "# Entrenar el modelo con los datos de entrenamiento\n",
    "logreg_model.fit(X_entrenamientoLema, Y_entrenamientoLema)\n",
    "\n",
    "# Realizar predicciones en los datos de prueba\n",
    "y_pred = logreg_model.predict(X_pruebaLema)\n",
    "\n",
    "# Calcular la precisión del modelo\n",
    "precisionRL_Lema = accuracy_score(Y_pruebaLema, y_pred)\n",
    "print(\"Precisión del modelo: {:.2f}%\".format(precisionRL_Lema * 100))"
   ]
  },
  {
   "cell_type": "code",
   "execution_count": 81,
   "id": "7a48a173-09bf-4e09-ac0c-48f9862913e1",
   "metadata": {},
   "outputs": [
    {
     "name": "stdout",
     "output_type": "stream",
     "text": [
      "Precisión del modelo: 51.73%\n"
     ]
    }
   ],
   "source": [
    "# Crear el modelo de regresión logística\n",
    "logreg_model = LogisticRegression()\n",
    "\n",
    "# Entrenar el modelo con los datos de Y_entrenamientoStem\n",
    "logreg_model.fit(X_entrenamientoStem, Y_entrenamientoStem)\n",
    "\n",
    "# Realizar predicciones en los datos de prueba\n",
    "y_pred = logreg_model.predict(X_pruebaStem)\n",
    "\n",
    "# Calcular la precisión del modelo\n",
    "precisionRL_Stem = accuracy_score(Y_pruebaStem, y_pred)\n",
    "print(\"Precisión del modelo: {:.2f}%\".format(precisionRL_Stem * 100))"
   ]
  },
  {
   "cell_type": "code",
   "execution_count": 82,
   "id": "cedec2fb-e382-49f5-abaf-59d21332c2ef",
   "metadata": {},
   "outputs": [
    {
     "data": {
      "image/png": "[encoded data removed]",
      "text/plain": [
       "<Figure size 1200x600 with 1 Axes>"
      ]
     },
     "metadata": {},
     "output_type": "display_data"
    }
   ],
   "source": [
    "# Datos para el gráfico del primer código\n",
    "algoritmos_lema = ['KNN', 'SVM', 'Arboles', 'Perceptron', 'Bayes', 'Random Forest', 'Regresion Log']\n",
    "precision_lema = [precisionKNN_Lema, precisionSVM_Lema, precisionArboles_Lema, precisionPerceptronLema,\n",
    "                   presicionNBLema, precisionRF_Lema, precisionRL_Lema]\n",
    "\n",
    "# Datos para el gráfico del segundo código\n",
    "algoritmos_stem = ['KNN', 'SVM', 'Arboles', 'Perceptron', 'Bayes', 'Random Forest', 'Regresion Log']\n",
    "precision_stem = [precisionKNN_Stem, precisionSVM_Stem, precisionArboles_Stem, precisionPerceptronStem,\n",
    "                  presicionNBStem, precisionRF_Stem, precisionRL_Stem]\n",
    "\n",
    "# Configuración del gráfico\n",
    "plt.figure(figsize=(12, 6))\n",
    "plt.title(\"Comparación de Algoritmos Lema y Stemming Cardiff - 3 clases\", fontsize=14, y=1.05)\n",
    "plt.xlabel('Algoritmos', fontsize=12)\n",
    "plt.ylabel('Precision', fontsize=12)\n",
    "plt.ylim(0, 1)  # Establecer límites en el eje y\n",
    "\n",
    "# Creación de las barras\n",
    "plt.bar(range(len(algoritmos_lema)), precision_lema, width=0.4, align='center', label='Lema')\n",
    "plt.bar(range(len(algoritmos_stem)), precision_stem, width=0.4, align='edge', label='Stemming')\n",
    "\n",
    "# Etiquetas de los algoritmos en el eje x\n",
    "plt.xticks(range(len(algoritmos_lema)), algoritmos_lema, fontsize=10)\n",
    "\n",
    "# Leyenda\n",
    "plt.legend(fontsize=12)\n",
    "\n",
    "# Mostrar el gráfico\n",
    "plt.show()"
   ]
  }
 ],
 "metadata": {
  "kernelspec": {
   "display_name": "Python 3 (ipykernel)",
   "language": "python",
   "name": "python3"
  },
  "language_info": {
   "codemirror_mode": {
    "name": "ipython",
    "version": 3
   },
   "file_extension": ".py",
   "mimetype": "text/x-python",
   "name": "python",
   "nbconvert_exporter": "python",
   "pygments_lexer": "ipython3",
   "version": "3.9.16"
  }
 },
 "nbformat": 4,
 "nbformat_minor": 5
}
