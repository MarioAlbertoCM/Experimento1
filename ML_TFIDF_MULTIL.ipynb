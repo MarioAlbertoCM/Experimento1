{
 "cells": [
  {
   "cell_type": "code",
   "execution_count": 3,
   "id": "c4b03aa2-36f2-4e7a-8dbd-2b7f942aad4e",
   "metadata": {},
   "outputs": [],
   "source": [
    "import pandas as pd\n",
    "import sklearn\n",
    "import matplotlib.pyplot as plt\n",
    "import numpy as np\n",
    "from sklearn import svm, tree, neighbors\n",
    "from sklearn.model_selection import train_test_split\n",
    "from sklearn.linear_model import Perceptron\n",
    "from sklearn.metrics import accuracy_score\n",
    "from sklearn.naive_bayes import GaussianNB"
   ]
  },
  {
   "cell_type": "code",
   "execution_count": 5,
   "id": "967917d6-02c3-4e54-800a-8f2b586cdbd2",
   "metadata": {},
   "outputs": [
    {
     "name": "stdout",
     "output_type": "stream",
     "text": [
      "Total columnas: 5039\n"
     ]
    }
   ],
   "source": [
    "# LEMA\n",
    "# lectura del archivo de caracteristicas de los textos\n",
    "archivoLema = \"tfidf_dfLema.csv\"\n",
    "conjuntoTextosLema = pd.read_csv(archivoLema,encoding='utf-8')\n",
    "#cantidad de columnas en el dataframe\n",
    "TotColumsLema=conjuntoTextosLema.shape[1]-1\n",
    "print(\"Total columnas: \"+ str(conjuntoTextosLema.shape[1]))\n",
    "#print(conjuntoTextosLema)"
   ]
  },
  {
   "cell_type": "code",
   "execution_count": 6,
   "id": "0cfdb5be-2369-42aa-af73-087669c07fc8",
   "metadata": {},
   "outputs": [
    {
     "name": "stdout",
     "output_type": "stream",
     "text": [
      "Total columnas: 4072\n"
     ]
    }
   ],
   "source": [
    "# stemmer\n",
    "# lectura del archivo de caracteristicas de los textos\n",
    "archivoStem = \"tfidf_dfStem.csv\"\n",
    "conjuntoTextosStem = pd.read_csv(archivoStem,encoding='utf-8')\n",
    "#cantidad de columnas en el dataframe\n",
    "TotColumsSteam=conjuntoTextosStem.shape[1]-1\n",
    "print(\"Total columnas: \"+ str(conjuntoTextosStem.shape[1]))\n",
    "#print(conjuntoTextosStem)"
   ]
  },
  {
   "cell_type": "code",
   "execution_count": 7,
   "id": "b89b2e5a-341c-4efc-9e00-48732c680762",
   "metadata": {},
   "outputs": [],
   "source": [
    "#Lema\n",
    "# Divide el conjunto en X (características) y Y (listado de clases)\n",
    "X_Lema = conjuntoTextosLema.iloc[:, :TotColumsLema].values\n",
    "Y_Lema = conjuntoTextosLema['Trg'].values"
   ]
  },
  {
   "cell_type": "code",
   "execution_count": 8,
   "id": "73b12f81-a7a6-479f-a37b-2104e4639a01",
   "metadata": {},
   "outputs": [],
   "source": [
    "#Stemmer\n",
    "# Divide el conjunto en X (características) y Y (listado de clases)\n",
    "X_Stem = conjuntoTextosStem.iloc[:, :TotColumsSteam].values\n",
    "Y_Stem = conjuntoTextosStem['Trg'].values"
   ]
  },
  {
   "cell_type": "code",
   "execution_count": 9,
   "id": "72f88478-504c-4b43-ad05-6b73691fd1a4",
   "metadata": {},
   "outputs": [
    {
     "name": "stdout",
     "output_type": "stream",
     "text": [
      "Cantidad de textos de entrenamiento:  1471\n",
      "Cantidad de textos de prueba:  368\n"
     ]
    }
   ],
   "source": [
    "#Lema\n",
    "# Divide los conjuntos X y Y en entrenamiento y pruebas con un 80/20\n",
    "(X_entrenamientoLema, X_pruebaLema, Y_entrenamientoLema, Y_pruebaLema) = train_test_split(X_Lema, Y_Lema, test_size=0.2)\n",
    "print(\"Cantidad de textos de entrenamiento: \", len(Y_entrenamientoLema))\n",
    "print(\"Cantidad de textos de prueba: \",len(Y_pruebaLema))"
   ]
  },
  {
   "cell_type": "code",
   "execution_count": 10,
   "id": "983837ea-06dc-428e-899e-a91997016e1f",
   "metadata": {},
   "outputs": [
    {
     "name": "stdout",
     "output_type": "stream",
     "text": [
      "Cantidad de textos de entrenamiento:  1471\n",
      "Cantidad de textos de prueba:  368\n"
     ]
    }
   ],
   "source": [
    "#Stemmer\n",
    "# Divide los conjuntos X y Y en entrenamiento y pruebas con un 80/20\n",
    "(X_entrenamientoStem, X_pruebaStem, Y_entrenamientoStem, Y_pruebaStem) = train_test_split(X_Stem, Y_Stem, test_size=0.2)\n",
    "print(\"Cantidad de textos de entrenamiento: \", len(Y_entrenamientoStem))\n",
    "print(\"Cantidad de textos de prueba: \",len(Y_pruebaStem))"
   ]
  },
  {
   "cell_type": "code",
   "execution_count": 11,
   "id": "f80bb3c5-404f-4138-ac57-11a09060913c",
   "metadata": {},
   "outputs": [],
   "source": [
    "pd.set_option('display.max_colwidth', None)  # Ajustar la anchura de la columna\n",
    "pd.set_option('display.max_rows', None)  \n",
    "X_entrenamientoLema_unidimensional = [item[0] for item in X_entrenamientoLema]  # Convertir a una lista unidimensional\n",
    "df = pd.DataFrame({'X_entrenamientoLema': X_entrenamientoLema_unidimensional})  # Crear un DataFrame con la columna unidimensional\n",
    "df.to_csv('borrar.csv',index=False)"
   ]
  },
  {
   "cell_type": "code",
   "execution_count": 12,
   "id": "16bb4626-0204-491f-b3e5-94719a93f0bb",
   "metadata": {},
   "outputs": [],
   "source": [
    "#Lema K-NN\n",
    "# Entrena con los conjuntos (X,Y_entrenamiento), genera el modelo, clasifica y evalua con los conjuntos (X,Y_prueba)\n",
    "# Utilizando el algoritmo K-NN con 3 vecinos\n",
    "clasificadorKNN_Lema = neighbors.KNeighborsClassifier(n_neighbors=3,weights='distance')\n",
    "clasificadorKNN_Lema.fit(X_entrenamientoLema, Y_entrenamientoLema)\n",
    "precisionKNN_Lema = clasificadorKNN_Lema.score(X_pruebaLema, Y_pruebaLema)"
   ]
  },
  {
   "cell_type": "code",
   "execution_count": 13,
   "id": "7879c58d-ed32-4efe-be0c-e00f03216c7b",
   "metadata": {},
   "outputs": [],
   "source": [
    "#Stemmer K-NN\n",
    "# Entrena con los conjuntos (X,Y_entrenamiento), genera el modelo, clasifica y evalua con los conjuntos (X,Y_prueba)\n",
    "# Utilizando el algoritmo K-NN con 3 vecinos\n",
    "clasificadorKNN_Stem = neighbors.KNeighborsClassifier(n_neighbors=3,weights='distance')\n",
    "clasificadorKNN_Stem.fit(X_entrenamientoStem, Y_entrenamientoStem)\n",
    "precisionKNN_Stem = clasificadorKNN_Stem.score(X_pruebaStem, Y_pruebaStem)"
   ]
  },
  {
   "cell_type": "code",
   "execution_count": 14,
   "id": "a97bca53-fc33-475e-b95f-13c8c85d6d9d",
   "metadata": {},
   "outputs": [],
   "source": [
    "# Lema -- Obtiene e imprime las clases asignadas\n",
    "#print(Y_pruebaLema)\n",
    "clasesAsignadasLema = clasificadorKNN_Lema.predict(X_pruebaLema)\n",
    "#print(clasesAsignadasLema)\n",
    "#print(\"Precisión del algoritmo K-NN para Lema: \",precisionKNN_Lema*100)"
   ]
  },
  {
   "cell_type": "code",
   "execution_count": 15,
   "id": "4fc56ccd-f456-4a18-ac49-9dfd52fe3e9f",
   "metadata": {},
   "outputs": [],
   "source": [
    "# Stemmer -- Obtiene e imprime las clases asignadas\n",
    "#print(Y_pruebaStem)\n",
    "clasesAsignadasStem = clasificadorKNN_Stem.predict(X_pruebaStem)\n",
    "#print(clasesAsignadasStem)\n",
    "#print(\"Precisión del algoritmo K-NN para Stemmer: \",precisionKNN_Stem*100)"
   ]
  },
  {
   "cell_type": "code",
   "execution_count": 16,
   "id": "396edd1d-ea0a-4bd8-97fd-18f21cc570e6",
   "metadata": {},
   "outputs": [],
   "source": [
    "# Lema -- Creamos un objeto Perceptron y lo ajustamos a los datos \n",
    "clfLema = Perceptron()\n",
    "clfLema.fit(X_entrenamientoLema, Y_entrenamientoLema)\n",
    "# Hacemos una predicción sobre un nuevo conjunto de datos\n",
    "Y_predLema = clfLema.predict(X_pruebaLema)\n",
    "# Imprimimos las predicciones\n",
    "#print(Y_predLema)\n",
    "#print(Y_pruebaLema)"
   ]
  },
  {
   "cell_type": "code",
   "execution_count": 17,
   "id": "1e364a28-1198-4f31-abec-45e18df18021",
   "metadata": {},
   "outputs": [],
   "source": [
    "# Stemmer -- Creamos un objeto Perceptron y lo ajustamos a los datos\n",
    "clfStem = Perceptron()\n",
    "clfStem.fit(X_entrenamientoStem, Y_entrenamientoStem)\n",
    "# Hacemos una predicción sobre un nuevo conjunto de datos\n",
    "Y_predStem = clfStem.predict(X_pruebaStem)\n",
    "# Imprimimos las predicciones\n",
    "#print(Y_predStem)\n",
    "#print(Y_pruebaStem)"
   ]
  },
  {
   "cell_type": "code",
   "execution_count": 18,
   "id": "273c89e8-fc90-4768-b0ba-069fd41427bf",
   "metadata": {},
   "outputs": [
    {
     "data": {
      "text/html": [
       "<style>#sk-container-id-1 {color: black;background-color: white;}#sk-container-id-1 pre{padding: 0;}#sk-container-id-1 div.sk-toggleable {background-color: white;}#sk-container-id-1 label.sk-toggleable__label {cursor: pointer;display: block;width: 100%;margin-bottom: 0;padding: 0.3em;box-sizing: border-box;text-align: center;}#sk-container-id-1 label.sk-toggleable__label-arrow:before {content: \"▸\";float: left;margin-right: 0.25em;color: #696969;}#sk-container-id-1 label.sk-toggleable__label-arrow:hover:before {color: black;}#sk-container-id-1 div.sk-estimator:hover label.sk-toggleable__label-arrow:before {color: black;}#sk-container-id-1 div.sk-toggleable__content {max-height: 0;max-width: 0;overflow: hidden;text-align: left;background-color: #f0f8ff;}#sk-container-id-1 div.sk-toggleable__content pre {margin: 0.2em;color: black;border-radius: 0.25em;background-color: #f0f8ff;}#sk-container-id-1 input.sk-toggleable__control:checked~div.sk-toggleable__content {max-height: 200px;max-width: 100%;overflow: auto;}#sk-container-id-1 input.sk-toggleable__control:checked~label.sk-toggleable__label-arrow:before {content: \"▾\";}#sk-container-id-1 div.sk-estimator input.sk-toggleable__control:checked~label.sk-toggleable__label {background-color: #d4ebff;}#sk-container-id-1 div.sk-label input.sk-toggleable__control:checked~label.sk-toggleable__label {background-color: #d4ebff;}#sk-container-id-1 input.sk-hidden--visually {border: 0;clip: rect(1px 1px 1px 1px);clip: rect(1px, 1px, 1px, 1px);height: 1px;margin: -1px;overflow: hidden;padding: 0;position: absolute;width: 1px;}#sk-container-id-1 div.sk-estimator {font-family: monospace;background-color: #f0f8ff;border: 1px dotted black;border-radius: 0.25em;box-sizing: border-box;margin-bottom: 0.5em;}#sk-container-id-1 div.sk-estimator:hover {background-color: #d4ebff;}#sk-container-id-1 div.sk-parallel-item::after {content: \"\";width: 100%;border-bottom: 1px solid gray;flex-grow: 1;}#sk-container-id-1 div.sk-label:hover label.sk-toggleable__label {background-color: #d4ebff;}#sk-container-id-1 div.sk-serial::before {content: \"\";position: absolute;border-left: 1px solid gray;box-sizing: border-box;top: 0;bottom: 0;left: 50%;z-index: 0;}#sk-container-id-1 div.sk-serial {display: flex;flex-direction: column;align-items: center;background-color: white;padding-right: 0.2em;padding-left: 0.2em;position: relative;}#sk-container-id-1 div.sk-item {position: relative;z-index: 1;}#sk-container-id-1 div.sk-parallel {display: flex;align-items: stretch;justify-content: center;background-color: white;position: relative;}#sk-container-id-1 div.sk-item::before, #sk-container-id-1 div.sk-parallel-item::before {content: \"\";position: absolute;border-left: 1px solid gray;box-sizing: border-box;top: 0;bottom: 0;left: 50%;z-index: -1;}#sk-container-id-1 div.sk-parallel-item {display: flex;flex-direction: column;z-index: 1;position: relative;background-color: white;}#sk-container-id-1 div.sk-parallel-item:first-child::after {align-self: flex-end;width: 50%;}#sk-container-id-1 div.sk-parallel-item:last-child::after {align-self: flex-start;width: 50%;}#sk-container-id-1 div.sk-parallel-item:only-child::after {width: 0;}#sk-container-id-1 div.sk-dashed-wrapped {border: 1px dashed gray;margin: 0 0.4em 0.5em 0.4em;box-sizing: border-box;padding-bottom: 0.4em;background-color: white;}#sk-container-id-1 div.sk-label label {font-family: monospace;font-weight: bold;display: inline-block;line-height: 1.2em;}#sk-container-id-1 div.sk-label-container {text-align: center;}#sk-container-id-1 div.sk-container {/* jupyter's `normalize.less` sets `[hidden] { display: none; }` but bootstrap.min.css set `[hidden] { display: none !important; }` so we also need the `!important` here to be able to override the default hidden behavior on the sphinx rendered scikit-learn.org. See: https://github.com/scikit-learn/scikit-learn/issues/21755 */display: inline-block !important;position: relative;}#sk-container-id-1 div.sk-text-repr-fallback {display: none;}</style><div id=\"sk-container-id-1\" class=\"sk-top-container\"><div class=\"sk-text-repr-fallback\"><pre>GaussianNB()</pre><b>In a Jupyter environment, please rerun this cell to show the HTML representation or trust the notebook. <br />On GitHub, the HTML representation is unable to render, please try loading this page with nbviewer.org.</b></div><div class=\"sk-container\" hidden><div class=\"sk-item\"><div class=\"sk-estimator sk-toggleable\"><input class=\"sk-toggleable__control sk-hidden--visually\" id=\"sk-estimator-id-1\" type=\"checkbox\" checked><label for=\"sk-estimator-id-1\" class=\"sk-toggleable__label sk-toggleable__label-arrow\">GaussianNB</label><div class=\"sk-toggleable__content\"><pre>GaussianNB()</pre></div></div></div></div></div>"
      ],
      "text/plain": [
       "GaussianNB()"
      ]
     },
     "execution_count": 18,
     "metadata": {},
     "output_type": "execute_result"
    }
   ],
   "source": [
    "# Lema -- Crear un clasificador de Naive Bayes\n",
    "nbLema = GaussianNB()\n",
    "# Entrenar el clasificador con el conjunto de entrenamiento\n",
    "nbLema.fit(X_entrenamientoLema, Y_entrenamientoLema)"
   ]
  },
  {
   "cell_type": "code",
   "execution_count": 19,
   "id": "21fb709d-d08b-462f-981a-69a2ec7ac0bb",
   "metadata": {},
   "outputs": [
    {
     "data": {
      "text/html": [
       "<style>#sk-container-id-2 {color: black;background-color: white;}#sk-container-id-2 pre{padding: 0;}#sk-container-id-2 div.sk-toggleable {background-color: white;}#sk-container-id-2 label.sk-toggleable__label {cursor: pointer;display: block;width: 100%;margin-bottom: 0;padding: 0.3em;box-sizing: border-box;text-align: center;}#sk-container-id-2 label.sk-toggleable__label-arrow:before {content: \"▸\";float: left;margin-right: 0.25em;color: #696969;}#sk-container-id-2 label.sk-toggleable__label-arrow:hover:before {color: black;}#sk-container-id-2 div.sk-estimator:hover label.sk-toggleable__label-arrow:before {color: black;}#sk-container-id-2 div.sk-toggleable__content {max-height: 0;max-width: 0;overflow: hidden;text-align: left;background-color: #f0f8ff;}#sk-container-id-2 div.sk-toggleable__content pre {margin: 0.2em;color: black;border-radius: 0.25em;background-color: #f0f8ff;}#sk-container-id-2 input.sk-toggleable__control:checked~div.sk-toggleable__content {max-height: 200px;max-width: 100%;overflow: auto;}#sk-container-id-2 input.sk-toggleable__control:checked~label.sk-toggleable__label-arrow:before {content: \"▾\";}#sk-container-id-2 div.sk-estimator input.sk-toggleable__control:checked~label.sk-toggleable__label {background-color: #d4ebff;}#sk-container-id-2 div.sk-label input.sk-toggleable__control:checked~label.sk-toggleable__label {background-color: #d4ebff;}#sk-container-id-2 input.sk-hidden--visually {border: 0;clip: rect(1px 1px 1px 1px);clip: rect(1px, 1px, 1px, 1px);height: 1px;margin: -1px;overflow: hidden;padding: 0;position: absolute;width: 1px;}#sk-container-id-2 div.sk-estimator {font-family: monospace;background-color: #f0f8ff;border: 1px dotted black;border-radius: 0.25em;box-sizing: border-box;margin-bottom: 0.5em;}#sk-container-id-2 div.sk-estimator:hover {background-color: #d4ebff;}#sk-container-id-2 div.sk-parallel-item::after {content: \"\";width: 100%;border-bottom: 1px solid gray;flex-grow: 1;}#sk-container-id-2 div.sk-label:hover label.sk-toggleable__label {background-color: #d4ebff;}#sk-container-id-2 div.sk-serial::before {content: \"\";position: absolute;border-left: 1px solid gray;box-sizing: border-box;top: 0;bottom: 0;left: 50%;z-index: 0;}#sk-container-id-2 div.sk-serial {display: flex;flex-direction: column;align-items: center;background-color: white;padding-right: 0.2em;padding-left: 0.2em;position: relative;}#sk-container-id-2 div.sk-item {position: relative;z-index: 1;}#sk-container-id-2 div.sk-parallel {display: flex;align-items: stretch;justify-content: center;background-color: white;position: relative;}#sk-container-id-2 div.sk-item::before, #sk-container-id-2 div.sk-parallel-item::before {content: \"\";position: absolute;border-left: 1px solid gray;box-sizing: border-box;top: 0;bottom: 0;left: 50%;z-index: -1;}#sk-container-id-2 div.sk-parallel-item {display: flex;flex-direction: column;z-index: 1;position: relative;background-color: white;}#sk-container-id-2 div.sk-parallel-item:first-child::after {align-self: flex-end;width: 50%;}#sk-container-id-2 div.sk-parallel-item:last-child::after {align-self: flex-start;width: 50%;}#sk-container-id-2 div.sk-parallel-item:only-child::after {width: 0;}#sk-container-id-2 div.sk-dashed-wrapped {border: 1px dashed gray;margin: 0 0.4em 0.5em 0.4em;box-sizing: border-box;padding-bottom: 0.4em;background-color: white;}#sk-container-id-2 div.sk-label label {font-family: monospace;font-weight: bold;display: inline-block;line-height: 1.2em;}#sk-container-id-2 div.sk-label-container {text-align: center;}#sk-container-id-2 div.sk-container {/* jupyter's `normalize.less` sets `[hidden] { display: none; }` but bootstrap.min.css set `[hidden] { display: none !important; }` so we also need the `!important` here to be able to override the default hidden behavior on the sphinx rendered scikit-learn.org. See: https://github.com/scikit-learn/scikit-learn/issues/21755 */display: inline-block !important;position: relative;}#sk-container-id-2 div.sk-text-repr-fallback {display: none;}</style><div id=\"sk-container-id-2\" class=\"sk-top-container\"><div class=\"sk-text-repr-fallback\"><pre>GaussianNB()</pre><b>In a Jupyter environment, please rerun this cell to show the HTML representation or trust the notebook. <br />On GitHub, the HTML representation is unable to render, please try loading this page with nbviewer.org.</b></div><div class=\"sk-container\" hidden><div class=\"sk-item\"><div class=\"sk-estimator sk-toggleable\"><input class=\"sk-toggleable__control sk-hidden--visually\" id=\"sk-estimator-id-2\" type=\"checkbox\" checked><label for=\"sk-estimator-id-2\" class=\"sk-toggleable__label sk-toggleable__label-arrow\">GaussianNB</label><div class=\"sk-toggleable__content\"><pre>GaussianNB()</pre></div></div></div></div></div>"
      ],
      "text/plain": [
       "GaussianNB()"
      ]
     },
     "execution_count": 19,
     "metadata": {},
     "output_type": "execute_result"
    }
   ],
   "source": [
    "# Stemmer -- Crear un clasificador de Naive Bayes\n",
    "nbStem = GaussianNB()\n",
    "# Entrenar el clasificador con el conjunto de entrenamiento\n",
    "nbStem.fit(X_entrenamientoStem, Y_entrenamientoStem)"
   ]
  },
  {
   "cell_type": "code",
   "execution_count": 20,
   "id": "4157d607-9612-473d-9999-84e1d27e8b80",
   "metadata": {},
   "outputs": [
    {
     "name": "stdout",
     "output_type": "stream",
     "text": [
      "Precisión del algoritmo SVM para Lema:  47.01086956521739\n"
     ]
    }
   ],
   "source": [
    "# Lema -- Entrena, genera el modelo, clasifica y evalua con los conjuntos \n",
    "# Utilizando el algoritmo Maquinas de soporte vectorial\n",
    "clasificadorSVM_Lema = svm.SVC()\n",
    "clasificadorSVM_Lema.fit(X_entrenamientoLema, Y_entrenamientoLema)\n",
    "precisionSVM_Lema = clasificadorSVM_Lema.score(X_pruebaLema, Y_pruebaLema)\n",
    "print(\"Precisión del algoritmo SVM para Lema: \",precisionSVM_Lema*100)"
   ]
  },
  {
   "cell_type": "code",
   "execution_count": 18,
   "id": "e5b73ab7-5fab-4968-80a6-34f0ebef1ea1",
   "metadata": {},
   "outputs": [
    {
     "data": {
      "text/plain": [
       "'from sklearn.model_selection import GridSearchCV\\nfrom sklearn.svm import SVC\\nfrom sklearn.model_selection import train_test_split\\n'"
      ]
     },
     "execution_count": 18,
     "metadata": {},
     "output_type": "execute_result"
    }
   ],
   "source": [
    "'''from sklearn.model_selection import GridSearchCV\n",
    "from sklearn.svm import SVC\n",
    "from sklearn.model_selection import train_test_split\n",
    "'''"
   ]
  },
  {
   "cell_type": "code",
   "execution_count": 19,
   "id": "04e88c17-7acf-402d-b2b0-9a5879cfd79c",
   "metadata": {},
   "outputs": [
    {
     "data": {
      "text/plain": [
       "'\\n\\n# Divide los conjuntos X y Y en entrenamiento y pruebas con un 80/20\\n(X_entrenamientoLema, X_pruebaLema, Y_entrenamientoLema, Y_pruebaLema) = train_test_split(X_Lema, Y_Lema, test_size=0.2)\\n\\n# Definir los valores de C que se probarán\\nvalores_C = [0.1, 10, 30, 100]\\n\\n# Crear el clasificador SVM\\nsvm = SVC()\\n\\n# Definir los parámetros para la búsqueda de hiperparámetros con validación cruzada\\nparametros = {\\'C\\': valores_C}\\n\\n# Realizar la búsqueda de hiperparámetros con validación cruzada\\ngrid = GridSearchCV(svm, parametros, cv=10)\\ngrid.fit(X_entrenamientoLema, Y_entrenamientoLema)\\n\\n# Obtener los resultados de la búsqueda de hiperparámetros\\nresultados = grid.cv_results_\\n\\n# Obtener el mejor valor de C y su precisión asociada\\nmejor_C = grid.best_params_[\\'C\\']\\nmejor_precision = grid.best_score_\\n\\nprint(\"Mejor valor de C: \", mejor_C)\\nprint(\"Precisión del algoritmo SVM para Lema: \", mejor_precision * 100)\\n\\n'"
      ]
     },
     "execution_count": 19,
     "metadata": {},
     "output_type": "execute_result"
    }
   ],
   "source": [
    "'''\n",
    "\n",
    "# Divide los conjuntos X y Y en entrenamiento y pruebas con un 80/20\n",
    "(X_entrenamientoLema, X_pruebaLema, Y_entrenamientoLema, Y_pruebaLema) = train_test_split(X_Lema, Y_Lema, test_size=0.2)\n",
    "\n",
    "# Definir los valores de C que se probarán\n",
    "valores_C = [0.1, 10, 30, 100]\n",
    "\n",
    "# Crear el clasificador SVM\n",
    "svm = SVC()\n",
    "\n",
    "# Definir los parámetros para la búsqueda de hiperparámetros con validación cruzada\n",
    "parametros = {'C': valores_C}\n",
    "\n",
    "# Realizar la búsqueda de hiperparámetros con validación cruzada\n",
    "grid = GridSearchCV(svm, parametros, cv=10)\n",
    "grid.fit(X_entrenamientoLema, Y_entrenamientoLema)\n",
    "\n",
    "# Obtener los resultados de la búsqueda de hiperparámetros\n",
    "resultados = grid.cv_results_\n",
    "\n",
    "# Obtener el mejor valor de C y su precisión asociada\n",
    "mejor_C = grid.best_params_['C']\n",
    "mejor_precision = grid.best_score_\n",
    "\n",
    "print(\"Mejor valor de C: \", mejor_C)\n",
    "print(\"Precisión del algoritmo SVM para Lema: \", mejor_precision * 100)\n",
    "\n",
    "'''"
   ]
  },
  {
   "cell_type": "code",
   "execution_count": 21,
   "id": "0faed791-8cf4-4590-8b8f-219db5508d0d",
   "metadata": {},
   "outputs": [
    {
     "name": "stdout",
     "output_type": "stream",
     "text": [
      "Precisión del algoritmo SVM para Stemmer:  53.53260869565217\n"
     ]
    }
   ],
   "source": [
    "# Stemmer -- Entrena, genera el modelo, clasifica y evalua con los conjuntos \n",
    "# Utilizando el algoritmo Maquinas de soporte vectorial\n",
    "clasificadorSVM_Stem = svm.SVC()\n",
    "clasificadorSVM_Stem.fit(X_entrenamientoStem, Y_entrenamientoStem)\n",
    "precisionSVM_Stem = clasificadorSVM_Stem.score(X_pruebaStem, Y_pruebaStem)\n",
    "print(\"Precisión del algoritmo SVM para Stemmer: \",precisionSVM_Stem*100)"
   ]
  },
  {
   "cell_type": "code",
   "execution_count": 22,
   "id": "28f7a16e-870b-4cf8-898c-c833e372107e",
   "metadata": {},
   "outputs": [
    {
     "name": "stdout",
     "output_type": "stream",
     "text": [
      "Precisión del algoritmo Arboles para Lema:  44.29347826086957\n"
     ]
    }
   ],
   "source": [
    "# Lema -- Entrena, genera el modelo, clasifica y evalua con los conjuntos \n",
    "# Utilizando elalgoritmo Arboles de Decisión\n",
    "clasificadorArboles_Lema = tree.DecisionTreeClassifier()\n",
    "clasificadorArboles_Lema = clasificadorArboles_Lema.fit(X_entrenamientoLema, Y_entrenamientoLema)\n",
    "precisionArboles_Lema = clasificadorArboles_Lema.score(X_pruebaLema, Y_pruebaLema)\n",
    "print(\"Precisión del algoritmo Arboles para Lema: \",precisionArboles_Lema*100)"
   ]
  },
  {
   "cell_type": "code",
   "execution_count": 23,
   "id": "cd80211c-d97d-4858-b6f7-f874b967d69e",
   "metadata": {},
   "outputs": [
    {
     "name": "stdout",
     "output_type": "stream",
     "text": [
      "Precisión del algoritmo Arboles para Stemmer:  41.30434782608695\n"
     ]
    }
   ],
   "source": [
    "# Stemmer -- Entrena, genera el modelo, clasifica y evalua con los conjuntos \n",
    "# Utilizando el algoritmo Arboles de Decisión\n",
    "clasificadorArboles_Stem = tree.DecisionTreeClassifier()\n",
    "clasificadorArboles_Stem = clasificadorArboles_Stem.fit(X_entrenamientoStem, Y_entrenamientoStem)\n",
    "precisionArboles_Stem = clasificadorArboles_Stem.score(X_pruebaStem, Y_pruebaStem)\n",
    "print(\"Precisión del algoritmo Arboles para Stemmer: \",precisionArboles_Stem*100)"
   ]
  },
  {
   "cell_type": "code",
   "execution_count": 24,
   "id": "7cda8c07-dd1c-4fc0-9942-a26b8a1ae728",
   "metadata": {
    "tags": []
   },
   "outputs": [
    {
     "name": "stdout",
     "output_type": "stream",
     "text": [
      "Precisión: 0.37228260869565216\n",
      "Precisión del algoritmo Perceptron Lema:  37.22826086956522\n"
     ]
    }
   ],
   "source": [
    "# Lema Perceptron -- Calculamos la precisión de las predicciones\n",
    "accuracyLema = accuracy_score(Y_pruebaLema, Y_predLema)\n",
    "# Imprimimos la precisión\n",
    "print(f\"Precisión: {accuracyLema}\")\n",
    "precisionPerceptronLema = clfLema.score(X_pruebaLema, Y_pruebaLema)\n",
    "print(\"Precisión del algoritmo Perceptron Lema: \",precisionPerceptronLema*100)"
   ]
  },
  {
   "cell_type": "code",
   "execution_count": 25,
   "id": "319dd0b4-f748-4f3c-9ace-08642ff9be1e",
   "metadata": {
    "tags": []
   },
   "outputs": [
    {
     "name": "stdout",
     "output_type": "stream",
     "text": [
      "Precisión: 0.4266304347826087\n",
      "Precisión del algoritmo Perceptron Stemmer:  42.66304347826087\n"
     ]
    }
   ],
   "source": [
    "# Stemmer Preceptron -- Calculamos la precisión de las predicciones\n",
    "accuracyStem = accuracy_score(Y_pruebaStem, Y_predStem)\n",
    "# Imprimimos la precisión\n",
    "print(f\"Precisión: {accuracyStem}\")\n",
    "precisionPerceptronStem = clfStem.score(X_pruebaStem, Y_pruebaStem)\n",
    "print(\"Precisión del algoritmo Perceptron Stemmer: \",precisionPerceptronStem*100)"
   ]
  },
  {
   "cell_type": "code",
   "execution_count": 35,
   "id": "153353f2-cd4b-4e5a-af75-8600b655df20",
   "metadata": {
    "tags": []
   },
   "outputs": [
    {
     "name": "stdout",
     "output_type": "stream",
     "text": [
      "Precisión de la clasificación: 0.33967391304347827\n"
     ]
    }
   ],
   "source": [
    "# Lema Bayes -- Calculamos la precisión de las predicciones\n",
    "precisionNBLema=nbLema.score(X_pruebaLema,Y_pruebaLema)\n",
    "#print(\"Precisión de la precisionBayes:\", precisionNBLema*100)\n",
    "y_predLema = nbLema.predict(X_pruebaLema)\n",
    "#print(\"Valores reales: \",Y_pruebaLema )\n",
    "#print(\"Valores predichos: \", y_predLema)\n",
    "presicionNBLema = accuracy_score(Y_pruebaLema, y_predLema)\n",
    "print(\"Precisión de la clasificación:\", presicionNBLema)"
   ]
  },
  {
   "cell_type": "code",
   "execution_count": 36,
   "id": "d26871d7-2214-457a-8912-28d1ad26b926",
   "metadata": {
    "tags": []
   },
   "outputs": [
    {
     "name": "stdout",
     "output_type": "stream",
     "text": [
      "Precisión de la clasificación: 0.40217391304347827\n"
     ]
    }
   ],
   "source": [
    "# Stemmer Bayes -- Calculamos la precisión de las predicciones\n",
    "precisionNBStem=nbStem.score(X_pruebaStem,Y_pruebaStem)\n",
    "#print(\"Precisión de la precisionBayes:\", precisionNBLema*100)\n",
    "y_predStem = nbStem.predict(X_pruebaStem)\n",
    "#print(\"Valores reales: \",Y_pruebaLema )\n",
    "#print(\"Valores predichos: \", y_predLema)\n",
    "presicionNBStem = accuracy_score(Y_pruebaStem, y_predStem)\n",
    "print(\"Precisión de la clasificación:\", presicionNBStem)"
   ]
  },
  {
   "cell_type": "code",
   "execution_count": 33,
   "id": "45d25544-e1e6-4a8e-9675-97236c11b9c4",
   "metadata": {},
   "outputs": [
    {
     "name": "stdout",
     "output_type": "stream",
     "text": [
      "***************************************************************\n",
      "Precisión del algoritmo K-NN para Lema:  37.77173913043478\n",
      "Precisión del algoritmo SVM para Lema:  47.01086956521739\n",
      "Precisión del algoritmo Arboles para Lema:  44.29347826086957\n",
      "Precisión del algoritmo Perceptron Lema:  37.22826086956522\n",
      "Precisión del algoritmo Bayes Lema:  33.96739130434783\n",
      "Precisión del algoritmo Random Forest Lema:  50.815217391304344\n",
      "Precisión del algoritmo Regresión Logistica:Lema  48.369565217391305\n",
      "***************************************************************\n"
     ]
    }
   ],
   "source": [
    "print(\"***************************************************************\")\n",
    "print(\"Precisión del algoritmo K-NN para Lema: \",precisionKNN_Lema*100)\n",
    "print(\"Precisión del algoritmo SVM para Lema: \",precisionSVM_Lema*100)\n",
    "print(\"Precisión del algoritmo Arboles para Lema: \",precisionArboles_Lema*100)\n",
    "print(\"Precisión del algoritmo Perceptron Lema: \",precisionPerceptronLema*100)\n",
    "print(\"Precisión del algoritmo Bayes Lema: \",presicionNBLema*100)\n",
    "print(\"Precisión del algoritmo Random Forest Lema: \",precisionRF_Lema*100)\n",
    "print(\"Precisión del algoritmo Regresión Logistica:Lema \",precisionRL_Lema*100)\n",
    "print(\"***************************************************************\")"
   ]
  },
  {
   "cell_type": "code",
   "execution_count": 53,
   "id": "e692823d-2d94-4477-8f91-1d917dd2a3ad",
   "metadata": {},
   "outputs": [
    {
     "data": {
      "image/png": "[encoded data removed]",
      "text/plain": [
       "<Figure size 1200x600 with 1 Axes>"
      ]
     },
     "metadata": {},
     "output_type": "display_data"
    }
   ],
   "source": [
    "# Compara los resultados de los tres algoritmos mediante gráficas\n",
    "plt.title(\"Comparacion de Algoritmos Lema Multilenguaje - 3 clases\")\n",
    "plt.xlabel('Algoritmos')\n",
    "plt.ylabel('Precision')\n",
    "plt.plot([1,2,3,4,5,6,7], [precisionKNN_Lema,precisionSVM_Lema,precisionArboles_Lema,precisionPerceptronLema,presicionNBLema,precisionRF_Lema,precisionRL_Lema], 'r--')\n",
    "plt.axis([1, 7, 0, 1])\n",
    "plt.text(1, 0.02, 'KNN', ha='center',color='blue')\n",
    "plt.text(2, 0.02, 'SVM', ha='center',color='blue')\n",
    "plt.text(3, 0.02, 'Arboles', ha='center',color='blue')\n",
    "plt.text(4, 0.02, 'Perceptron', ha='center',color='blue')\n",
    "plt.text(5, 0.02, 'Bayes', ha='center',color='blue')\n",
    "plt.text(6, 0.02, 'Random Forest', ha='center',color='blue')\n",
    "plt.text(7, 0.02, 'Regresion Log', ha='center',color='blue')\n",
    "fig = plt.gcf()\n",
    "fig.set_size_inches(12, 6)\n",
    "plt.show()"
   ]
  },
  {
   "cell_type": "code",
   "execution_count": 37,
   "id": "24bdf224-c290-4b53-98a8-4ee8463c4d43",
   "metadata": {},
   "outputs": [
    {
     "name": "stdout",
     "output_type": "stream",
     "text": [
      "***************************************************************\n",
      "Precisión del algoritmo K-NN para Stemmer:  41.03260869565217\n",
      "Precisión del algoritmo SVM para Stemmer:  53.53260869565217\n",
      "Precisión del algoritmo Arboles para Stemmer:  41.30434782608695\n",
      "Precisión del algoritmo Perceptron Stemmer:  42.66304347826087\n",
      "Precisión del algoritmo Bayes Stemmer:  40.21739130434783\n",
      "Precisión del algoritmo Random Forest Stemmer:  49.45652173913043\n",
      "Precisión del algoritmo Regresión Logistica:Stemmer  53.2608695652174\n",
      "***************************************************************\n"
     ]
    }
   ],
   "source": [
    "print(\"***************************************************************\")\n",
    "print(\"Precisión del algoritmo K-NN para Stemmer: \",precisionKNN_Stem*100)\n",
    "print(\"Precisión del algoritmo SVM para Stemmer: \",precisionSVM_Stem*100)\n",
    "print(\"Precisión del algoritmo Arboles para Stemmer: \",precisionArboles_Stem*100)\n",
    "print(\"Precisión del algoritmo Perceptron Stemmer: \",precisionPerceptronStem*100)\n",
    "print(\"Precisión del algoritmo Bayes Stemmer: \",presicionNBStem*100)\n",
    "print(\"Precisión del algoritmo Random Forest Stemmer: \",precisionRF_Stem*100)\n",
    "print(\"Precisión del algoritmo Regresión Logistica:Stemmer \",precisionRL_Stem*100)\n",
    "print(\"***************************************************************\")"
   ]
  },
  {
   "cell_type": "code",
   "execution_count": 38,
   "id": "0f4bac1b-ef4d-47cf-a97c-4af5c598b810",
   "metadata": {},
   "outputs": [
    {
     "data": {
      "image/png": "[encoded data removed]",
      "text/plain": [
       "<Figure size 1200x600 with 1 Axes>"
      ]
     },
     "metadata": {},
     "output_type": "display_data"
    }
   ],
   "source": [
    "# Compara los resultados de los tres algoritmos mediante gráficas\n",
    "plt.title(\"Comparacion de Algoritmos Stemming Multilenguaje - 3 clases\")\n",
    "plt.xlabel('Algoritmos')\n",
    "plt.ylabel('Precision')\n",
    "plt.plot([1,2,3,4,5,6,7], [precisionKNN_Stem,precisionSVM_Stem,precisionArboles_Stem,precisionPerceptronStem,presicionNBStem,precisionRF_Stem,precisionRL_Stem], 'r--')\n",
    "plt.axis([1, 7, 0, 1])\n",
    "plt.text(1, 0.02, 'KNN', ha='center',color='blue')\n",
    "plt.text(2, 0.02, 'SVM', ha='center',color='blue')\n",
    "plt.text(3, 0.02, 'Arboles', ha='center',color='blue')\n",
    "plt.text(4, 0.02, 'Perceptron', ha='center',color='blue')\n",
    "plt.text(5, 0.02, 'Bayes', ha='center',color='blue')\n",
    "plt.text(6, 0.02, 'Random Forest', ha='center',color='blue')\n",
    "plt.text(7, 0.02, 'Regresion Log', ha='center',color='blue')\n",
    "fig = plt.gcf()\n",
    "fig.set_size_inches(12, 6)\n",
    "plt.show()"
   ]
  },
  {
   "cell_type": "code",
   "execution_count": 27,
   "id": "f71cec7b-c1c8-41b3-8f09-f32300c4c9ea",
   "metadata": {},
   "outputs": [],
   "source": [
    "from sklearn.ensemble import RandomForestClassifier\n",
    "from sklearn.linear_model import LogisticRegression"
   ]
  },
  {
   "cell_type": "code",
   "execution_count": 28,
   "id": "20ad30b5-99f3-4d44-8be5-a71cbdfb54e7",
   "metadata": {},
   "outputs": [
    {
     "name": "stdout",
     "output_type": "stream",
     "text": [
      "Precisión del modelo: 50.82%\n"
     ]
    }
   ],
   "source": [
    "rf_model = RandomForestClassifier()\n",
    "\n",
    "# Entrenar el modelo con los datos de entrenamiento\n",
    "rf_model.fit(X_entrenamientoLema, Y_entrenamientoLema)\n",
    "\n",
    "# Realizar predicciones en los datos de prueba\n",
    "y_pred = rf_model.predict(X_pruebaLema)\n",
    "\n",
    "# Calcular la precisión del modelo\n",
    "precisionRF_Lema = accuracy_score(Y_pruebaLema, y_pred)\n",
    "print(\"Precisión del modelo: {:.2f}%\".format(precisionRF_Lema * 100))"
   ]
  },
  {
   "cell_type": "code",
   "execution_count": 29,
   "id": "98486332-2ec7-4cd2-8acb-e4f6e5adb3ee",
   "metadata": {},
   "outputs": [
    {
     "name": "stdout",
     "output_type": "stream",
     "text": [
      "Precisión del modelo: 49.46%\n"
     ]
    }
   ],
   "source": [
    "rf_model = RandomForestClassifier()\n",
    "\n",
    "# Entrenar el modelo con los datos de entrenamiento\n",
    "rf_model.fit(X_entrenamientoStem, Y_entrenamientoStem)\n",
    "\n",
    "# Realizar predicciones en los datos de prueba\n",
    "y_pred = rf_model.predict(X_pruebaStem)\n",
    "\n",
    "# Calcular la precisión del modelo\n",
    "precisionRF_Stem = accuracy_score(Y_pruebaStem, y_pred)\n",
    "print(\"Precisión del modelo: {:.2f}%\".format(precisionRF_Stem * 100))"
   ]
  },
  {
   "cell_type": "code",
   "execution_count": 30,
   "id": "4e2886b6-ced3-41b8-b455-8acf631bfc8a",
   "metadata": {},
   "outputs": [
    {
     "name": "stdout",
     "output_type": "stream",
     "text": [
      "Precisión del modelo: 48.37%\n"
     ]
    }
   ],
   "source": [
    "# Crear el modelo de regresión logística\n",
    "logreg_model = LogisticRegression()\n",
    "\n",
    "# Entrenar el modelo con los datos de entrenamiento\n",
    "logreg_model.fit(X_entrenamientoLema, Y_entrenamientoLema)\n",
    "\n",
    "# Realizar predicciones en los datos de prueba\n",
    "y_pred = logreg_model.predict(X_pruebaLema)\n",
    "\n",
    "# Calcular la precisión del modelo\n",
    "precisionRL_Lema = accuracy_score(Y_pruebaLema, y_pred)\n",
    "print(\"Precisión del modelo: {:.2f}%\".format(precisionRL_Lema * 100))"
   ]
  },
  {
   "cell_type": "code",
   "execution_count": 31,
   "id": "92e4c6ff-152a-492f-bad6-4775c8dd7fd0",
   "metadata": {},
   "outputs": [
    {
     "name": "stdout",
     "output_type": "stream",
     "text": [
      "Precisión del modelo: 53.26%\n"
     ]
    }
   ],
   "source": [
    "# Crear el modelo de regresión logística\n",
    "logreg_model = LogisticRegression()\n",
    "\n",
    "# Entrenar el modelo con los datos de Y_entrenamientoStem\n",
    "logreg_model.fit(X_entrenamientoStem, Y_entrenamientoStem)\n",
    "\n",
    "# Realizar predicciones en los datos de prueba\n",
    "y_pred = logreg_model.predict(X_pruebaStem)\n",
    "\n",
    "# Calcular la precisión del modelo\n",
    "precisionRL_Stem = accuracy_score(Y_pruebaStem, y_pred)\n",
    "print(\"Precisión del modelo: {:.2f}%\".format(precisionRL_Stem * 100))"
   ]
  },
  {
   "cell_type": "code",
   "execution_count": 40,
   "id": "55144468-926a-4c46-9641-0209c8f3690a",
   "metadata": {},
   "outputs": [
    {
     "data": {
      "image/png": "[encoded data removed]",
      "text/plain": [
       "<Figure size 1200x600 with 1 Axes>"
      ]
     },
     "metadata": {},
     "output_type": "display_data"
    }
   ],
   "source": [
    "# Datos para el gráfico del primer código\n",
    "algoritmos_lema = ['KNN', 'SVM', 'Arboles', 'Perceptron', 'Bayes', 'Random Forest', 'Regresion Log']\n",
    "precision_lema = [precisionKNN_Lema, precisionSVM_Lema, precisionArboles_Lema, precisionPerceptronLema,\n",
    "                   presicionNBLema, precisionRF_Lema, precisionRL_Lema]\n",
    "\n",
    "# Datos para el gráfico del segundo código\n",
    "algoritmos_stem = ['KNN', 'SVM', 'Arboles', 'Perceptron', 'Bayes', 'Random Forest', 'Regresion Log']\n",
    "precision_stem = [precisionKNN_Stem, precisionSVM_Stem, precisionArboles_Stem, precisionPerceptronStem,\n",
    "                  presicionNBStem, precisionRF_Stem, precisionRL_Stem]\n",
    "\n",
    "# Configuración del gráfico\n",
    "plt.figure(figsize=(12, 6))\n",
    "plt.title(\"Comparación de Algoritmos Lema y Stemming Multilenguaje - 3 clases\", fontsize=14, y=1.05)\n",
    "plt.xlabel('Algoritmos', fontsize=12)\n",
    "plt.ylabel('Precision', fontsize=12)\n",
    "plt.ylim(0, 1)  # Establecer límites en el eje y\n",
    "\n",
    "# Creación de las barras\n",
    "plt.bar(range(len(algoritmos_lema)), precision_lema, width=0.4, align='center', label='Lema')\n",
    "plt.bar(range(len(algoritmos_stem)), precision_stem, width=0.4, align='edge', label='Stemming')\n",
    "\n",
    "# Etiquetas de los algoritmos en el eje x\n",
    "plt.xticks(range(len(algoritmos_lema)), algoritmos_lema, fontsize=10)\n",
    "\n",
    "# Leyenda\n",
    "plt.legend(fontsize=12)\n",
    "\n",
    "# Mostrar el gráfico\n",
    "plt.show()"
   ]
  }
 ],
 "metadata": {
  "kernelspec": {
   "display_name": "Python 3 (ipykernel)",
   "language": "python",
   "name": "python3"
  },
  "language_info": {
   "codemirror_mode": {
    "name": "ipython",
    "version": 3
   },
   "file_extension": ".py",
   "mimetype": "text/x-python",
   "name": "python",
   "nbconvert_exporter": "python",
   "pygments_lexer": "ipython3",
   "version": "3.9.16"
  }
 },
 "nbformat": 4,
 "nbformat_minor": 5
}
